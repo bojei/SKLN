{
  "nbformat": 4,
  "nbformat_minor": 0,
  "metadata": {
    "colab": {
      "name": "Orthogonal Matching Pursuit.ipynb",
      "version": "0.3.2",
      "views": {},
      "default_view": {},
      "provenance": []
    }
  },
  "cells": [
    {
      "metadata": {
        "id": "Q_YZ3EPb3Ywk",
        "colab_type": "code",
        "colab": {
          "autoexec": {
            "startup": false,
            "wait_interval": 0
          },
          "base_uri": "https://localhost:8080/",
          "height": 180
        },
        "outputId": "35f256ed-0b45-4968-f91e-d55f9f14d487",
        "executionInfo": {
          "status": "ok",
          "timestamp": 1525919124294,
          "user_tz": -480,
          "elapsed": 728,
          "user": {
            "displayName": "梁泊傑",
            "photoUrl": "https://lh3.googleusercontent.com/a/default-user=s128",
            "userId": "102265875149672539628"
          }
        }
      },
      "cell_type": "code",
      "source": [
        "print(__doc__)\n",
        "\n",
        "import matplotlib.pyplot as plt\n",
        "import numpy as np\n",
        "from sklearn.linear_model import OrthogonalMatchingPursuit\n",
        "from sklearn.linear_model import OrthogonalMatchingPursuitCV\n",
        "from sklearn.datasets import make_sparse_coded_signal\n",
        "\n",
        "n_components, n_features = 512, 100\n",
        "n_nonzero_coefs = 17\n",
        "\n",
        "# generate the data\n",
        "###################\n",
        "\n",
        "# y = Xw\n",
        "# |x|_0 = n_nonzero_coefs\n",
        "\n",
        "y, X, w = make_sparse_coded_signal(n_samples=1,\n",
        "                                   n_components=n_components,\n",
        "                                   n_features=n_features,\n",
        "                                   n_nonzero_coefs=n_nonzero_coefs,\n",
        "                                   random_state=0)\n",
        "\n",
        "idx, = w.nonzero()\n",
        "\n",
        "# distort the clean signal\n",
        "y_noisy = y + 0.05 * np.random.randn(len(y))\n",
        "\n",
        "# plot the sparse signal\n",
        "plt.figure(figsize=(7, 7))\n",
        "plt.subplot(4, 1, 1)\n",
        "plt.xlim(0, 512)\n",
        "plt.title(\"Sparse signal\")\n",
        "plt.stem(idx, w[idx])\n",
        "\n",
        "# plot the noise-free reconstruction"
      ],
      "execution_count": 7,
      "outputs": [
        {
          "output_type": "stream",
          "text": [
            "Automatically created module for IPython interactive environment\n"
          ],
          "name": "stdout"
        },
        {
          "output_type": "execute_result",
          "data": {
            "text/plain": [
              "<Container object of 3 artists>"
            ]
          },
          "metadata": {
            "tags": []
          },
          "execution_count": 7
        },
        {
          "output_type": "display_data",
          "data": {
            "image/png": "[encoded data removed]",
            "text/plain": [
              "<matplotlib.figure.Figure at 0x7f4f990cd090>"
            ]
          },
          "metadata": {
            "tags": []
          }
        }
      ]
    },
    {
      "metadata": {
        "id": "176cHeaV3h4L",
        "colab_type": "code",
        "colab": {
          "autoexec": {
            "startup": false,
            "wait_interval": 0
          },
          "base_uri": "https://localhost:8080/",
          "height": 145
        },
        "outputId": "7a8f0bf2-b877-4f4f-a9cc-2bb70fed81cb",
        "executionInfo": {
          "status": "ok",
          "timestamp": 1525919137673,
          "user_tz": -480,
          "elapsed": 869,
          "user": {
            "displayName": "梁泊傑",
            "photoUrl": "https://lh3.googleusercontent.com/a/default-user=s128",
            "userId": "102265875149672539628"
          }
        }
      },
      "cell_type": "code",
      "source": [
        "omp = OrthogonalMatchingPursuit(n_nonzero_coefs=n_nonzero_coefs)\n",
        "omp.fit(X, y)\n",
        "coef = omp.coef_\n",
        "idx_r, = coef.nonzero()\n",
        "plt.subplot(4, 1, 2)\n",
        "plt.xlim(0, 512)\n",
        "plt.title(\"Recovered signal from noise-free measurements\")\n",
        "plt.stem(idx_r, coef[idx_r])\n",
        "\n",
        "# plot the noisy reconstruction"
      ],
      "execution_count": 8,
      "outputs": [
        {
          "output_type": "execute_result",
          "data": {
            "text/plain": [
              "<Container object of 3 artists>"
            ]
          },
          "metadata": {
            "tags": []
          },
          "execution_count": 8
        },
        {
          "output_type": "display_data",
          "data": {
            "image/png": "[encoded data removed]",
            "text/plain": [
              "<matplotlib.figure.Figure at 0x7f4f990ba8d0>"
            ]
          },
          "metadata": {
            "tags": []
          }
        }
      ]
    },
    {
      "metadata": {
        "id": "HEGWm_CJ3lm9",
        "colab_type": "code",
        "colab": {
          "autoexec": {
            "startup": false,
            "wait_interval": 0
          },
          "base_uri": "https://localhost:8080/",
          "height": 145
        },
        "outputId": "fcf90a2f-8867-4359-ee54-ba97ebc5f633",
        "executionInfo": {
          "status": "ok",
          "timestamp": 1525919147056,
          "user_tz": -480,
          "elapsed": 746,
          "user": {
            "displayName": "梁泊傑",
            "photoUrl": "https://lh3.googleusercontent.com/a/default-user=s128",
            "userId": "102265875149672539628"
          }
        }
      },
      "cell_type": "code",
      "source": [
        "omp.fit(X, y_noisy)\n",
        "coef = omp.coef_\n",
        "idx_r, = coef.nonzero()\n",
        "plt.subplot(4, 1, 3)\n",
        "plt.xlim(0, 512)\n",
        "plt.title(\"Recovered signal from noisy measurements\")\n",
        "plt.stem(idx_r, coef[idx_r])\n",
        "\n",
        "# plot the noisy reconstruction with number of non-zeros set by CV"
      ],
      "execution_count": 9,
      "outputs": [
        {
          "output_type": "execute_result",
          "data": {
            "text/plain": [
              "<Container object of 3 artists>"
            ]
          },
          "metadata": {
            "tags": []
          },
          "execution_count": 9
        },
        {
          "output_type": "display_data",
          "data": {
            "image/png": "[encoded data removed]",
            "text/plain": [
              "<matplotlib.figure.Figure at 0x7f4f98fb34d0>"
            ]
          },
          "metadata": {
            "tags": []
          }
        }
      ]
    },
    {
      "metadata": {
        "id": "lMOa4cfr3ngL",
        "colab_type": "code",
        "colab": {
          "autoexec": {
            "startup": false,
            "wait_interval": 0
          },
          "base_uri": "https://localhost:8080/",
          "height": 420
        },
        "outputId": "7596b9b6-8286-4f0f-b168-631992d426d9",
        "executionInfo": {
          "status": "ok",
          "timestamp": 1525919155248,
          "user_tz": -480,
          "elapsed": 995,
          "user": {
            "displayName": "梁泊傑",
            "photoUrl": "https://lh3.googleusercontent.com/a/default-user=s128",
            "userId": "102265875149672539628"
          }
        }
      },
      "cell_type": "code",
      "source": [
        "omp_cv = OrthogonalMatchingPursuitCV()\n",
        "omp_cv.fit(X, y_noisy)\n",
        "coef = omp_cv.coef_\n",
        "idx_r, = coef.nonzero()\n",
        "plt.subplot(4, 1, 4)\n",
        "plt.xlim(0, 512)\n",
        "plt.title(\"Recovered signal from noisy measurements with CV\")\n",
        "plt.stem(idx_r, coef[idx_r])\n",
        "\n",
        "plt.subplots_adjust(0.06, 0.04, 0.94, 0.90, 0.20, 0.38)\n",
        "plt.suptitle('Sparse signal recovery with Orthogonal Matching Pursuit',\n",
        "             fontsize=16)\n",
        "plt.show()"
      ],
      "execution_count": 10,
      "outputs": [
        {
          "output_type": "display_data",
          "data": {
            "image/png": "[encoded data removed]",
            "text/plain": [
              "<matplotlib.figure.Figure at 0x7f4f98fb3c10>"
            ]
          },
          "metadata": {
            "tags": []
          }
        }
      ]
    }
  ]
}