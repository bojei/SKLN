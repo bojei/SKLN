{
  "nbformat": 4,
  "nbformat_minor": 0,
  "metadata": {
    "colab": {
      "name": "Ridge Regression.ipynb",
      "version": "0.3.2",
      "views": {},
      "default_view": {},
      "provenance": [],
      "collapsed_sections": []
    }
  },
  "cells": [
    {
      "metadata": {
        "id": "UJOipk88xohh",
        "colab_type": "code",
        "colab": {
          "autoexec": {
            "startup": false,
            "wait_interval": 0
          },
          "base_uri": "https://localhost:8080/",
          "height": 51
        },
        "outputId": "03cab078-813e-43d3-f3c0-21c7655fa0c4",
        "executionInfo": {
          "status": "ok",
          "timestamp": 1525917643403,
          "user_tz": -480,
          "elapsed": 1108,
          "user": {
            "displayName": "梁先生",
            "photoUrl": "https://lh3.googleusercontent.com/a/default-user=s128",
            "userId": "107836680906286754237"
          }
        }
      },
      "cell_type": "code",
      "source": [
        "from sklearn import linear_model\n",
        "reg = linear_model.Ridge (alpha = .5)\n",
        "reg.fit ([[0, 0], [0, 0], [1, 1]], [0, .1, 1]) "
      ],
      "execution_count": 21,
      "outputs": [
        {
          "output_type": "execute_result",
          "data": {
            "text/plain": [
              "Ridge(alpha=0.5, copy_X=True, fit_intercept=True, max_iter=None,\n",
              "   normalize=False, random_state=None, solver='auto', tol=0.001)"
            ]
          },
          "metadata": {
            "tags": []
          },
          "execution_count": 21
        }
      ]
    },
    {
      "metadata": {
        "id": "tB_NteYdx4rq",
        "colab_type": "code",
        "colab": {
          "autoexec": {
            "startup": false,
            "wait_interval": 0
          },
          "base_uri": "https://localhost:8080/",
          "height": 34
        },
        "outputId": "85db7102-b8d8-47ea-8b66-4913096f1364",
        "executionInfo": {
          "status": "ok",
          "timestamp": 1525917653224,
          "user_tz": -480,
          "elapsed": 1214,
          "user": {
            "displayName": "梁先生",
            "photoUrl": "https://lh3.googleusercontent.com/a/default-user=s128",
            "userId": "107836680906286754237"
          }
        }
      },
      "cell_type": "code",
      "source": [
        " reg.coef_"
      ],
      "execution_count": 22,
      "outputs": [
        {
          "output_type": "execute_result",
          "data": {
            "text/plain": [
              "array([0.34545455, 0.34545455])"
            ]
          },
          "metadata": {
            "tags": []
          },
          "execution_count": 22
        }
      ]
    },
    {
      "metadata": {
        "id": "vJO4jZbGx6Y_",
        "colab_type": "code",
        "colab": {
          "autoexec": {
            "startup": false,
            "wait_interval": 0
          },
          "base_uri": "https://localhost:8080/",
          "height": 34
        },
        "outputId": "0d7fa658-eb08-4126-d773-6ee1f9e3747a",
        "executionInfo": {
          "status": "ok",
          "timestamp": 1525917662859,
          "user_tz": -480,
          "elapsed": 3672,
          "user": {
            "displayName": "梁先生",
            "photoUrl": "https://lh3.googleusercontent.com/a/default-user=s128",
            "userId": "107836680906286754237"
          }
        }
      },
      "cell_type": "code",
      "source": [
        " reg.intercept_ "
      ],
      "execution_count": 23,
      "outputs": [
        {
          "output_type": "execute_result",
          "data": {
            "text/plain": [
              "0.1363636363636364"
            ]
          },
          "metadata": {
            "tags": []
          },
          "execution_count": 23
        }
      ]
    }
  ]
}