{
  "nbformat": 4,
  "nbformat_minor": 0,
  "metadata": {
    "colab": {
      "name": "Polynomial regression: extending linear models with basis functions.ipynb",
      "version": "0.3.2",
      "views": {},
      "default_view": {},
      "provenance": []
    }
  },
  "cells": [
    {
      "metadata": {
        "id": "I8F6mJ6h4zhp",
        "colab_type": "code",
        "colab": {
          "autoexec": {
            "startup": false,
            "wait_interval": 0
          },
          "base_uri": "https://localhost:8080/",
          "height": 68
        },
        "outputId": "ef33ce22-d904-460d-a628-439d6eaa2c85",
        "executionInfo": {
          "status": "ok",
          "timestamp": 1525919532944,
          "user_tz": -480,
          "elapsed": 857,
          "user": {
            "displayName": "梁泊傑",
            "photoUrl": "https://lh3.googleusercontent.com/a/default-user=s128",
            "userId": "102265875149672539628"
          }
        }
      },
      "cell_type": "code",
      "source": [
        "from sklearn.preprocessing import PolynomialFeatures\n",
        "import numpy as np\n",
        "X = np.arange(6).reshape(3, 2)\n",
        "X"
      ],
      "execution_count": 16,
      "outputs": [
        {
          "output_type": "execute_result",
          "data": {
            "text/plain": [
              "array([[0, 1],\n",
              "       [2, 3],\n",
              "       [4, 5]])"
            ]
          },
          "metadata": {
            "tags": []
          },
          "execution_count": 16
        }
      ]
    },
    {
      "metadata": {
        "id": "JnVHDD845EnT",
        "colab_type": "code",
        "colab": {
          "autoexec": {
            "startup": false,
            "wait_interval": 0
          },
          "base_uri": "https://localhost:8080/",
          "height": 68
        },
        "outputId": "c574de28-58d1-4bd7-cbff-426772f2768f",
        "executionInfo": {
          "status": "ok",
          "timestamp": 1525919536821,
          "user_tz": -480,
          "elapsed": 884,
          "user": {
            "displayName": "梁泊傑",
            "photoUrl": "https://lh3.googleusercontent.com/a/default-user=s128",
            "userId": "102265875149672539628"
          }
        }
      },
      "cell_type": "code",
      "source": [
        "poly = PolynomialFeatures(degree=2)\n",
        "poly.fit_transform(X)"
      ],
      "execution_count": 17,
      "outputs": [
        {
          "output_type": "execute_result",
          "data": {
            "text/plain": [
              "array([[ 1.,  0.,  1.,  0.,  0.,  1.],\n",
              "       [ 1.,  2.,  3.,  4.,  6.,  9.],\n",
              "       [ 1.,  4.,  5., 16., 20., 25.]])"
            ]
          },
          "metadata": {
            "tags": []
          },
          "execution_count": 17
        }
      ]
    },
    {
      "metadata": {
        "id": "z-AHS-4v5Hgw",
        "colab_type": "code",
        "colab": {
          "autoexec": {
            "startup": false,
            "wait_interval": 0
          },
          "base_uri": "https://localhost:8080/",
          "height": 34
        },
        "outputId": "b63af9cb-50aa-4b24-db60-b4a4697c7541",
        "executionInfo": {
          "status": "ok",
          "timestamp": 1525919603344,
          "user_tz": -480,
          "elapsed": 702,
          "user": {
            "displayName": "梁泊傑",
            "photoUrl": "https://lh3.googleusercontent.com/a/default-user=s128",
            "userId": "102265875149672539628"
          }
        }
      },
      "cell_type": "code",
      "source": [
        "from sklearn.preprocessing import PolynomialFeatures\n",
        "from sklearn.linear_model import LinearRegression\n",
        "from sklearn.pipeline import Pipeline\n",
        "import numpy as np\n",
        "model = Pipeline([('poly', PolynomialFeatures(degree=3)),\n",
        "                   ('linear', LinearRegression(fit_intercept=False))])\n",
        "# fit to an order-3 polynomial data\n",
        "x = np.arange(5)\n",
        "y = 3 - 2 * x + x ** 2 - x ** 3\n",
        "model = model.fit(x[:, np.newaxis], y)\n",
        "model.named_steps['linear'].coef_"
      ],
      "execution_count": 19,
      "outputs": [
        {
          "output_type": "execute_result",
          "data": {
            "text/plain": [
              "array([ 3., -2.,  1., -1.])"
            ]
          },
          "metadata": {
            "tags": []
          },
          "execution_count": 19
        }
      ]
    },
    {
      "metadata": {
        "id": "owCOghDC5W3a",
        "colab_type": "code",
        "colab": {
          "autoexec": {
            "startup": false,
            "wait_interval": 0
          },
          "base_uri": "https://localhost:8080/",
          "height": 34
        },
        "outputId": "d88496c2-f51a-4f9b-8309-120bc236a9b5",
        "executionInfo": {
          "status": "ok",
          "timestamp": 1525919653119,
          "user_tz": -480,
          "elapsed": 717,
          "user": {
            "displayName": "梁泊傑",
            "photoUrl": "https://lh3.googleusercontent.com/a/default-user=s128",
            "userId": "102265875149672539628"
          }
        }
      },
      "cell_type": "code",
      "source": [
        "from sklearn.linear_model import Perceptron\n",
        "from sklearn.preprocessing import PolynomialFeatures\n",
        "import numpy as np\n",
        "X = np.array([[0, 0], [0, 1], [1, 0], [1, 1]])\n",
        "y = X[:, 0] ^ X[:, 1]\n",
        "y"
      ],
      "execution_count": 21,
      "outputs": [
        {
          "output_type": "execute_result",
          "data": {
            "text/plain": [
              "array([0, 1, 1, 0])"
            ]
          },
          "metadata": {
            "tags": []
          },
          "execution_count": 21
        }
      ]
    },
    {
      "metadata": {
        "id": "LiHZJT5h5ihL",
        "colab_type": "code",
        "colab": {
          "autoexec": {
            "startup": false,
            "wait_interval": 0
          },
          "base_uri": "https://localhost:8080/",
          "height": 85
        },
        "outputId": "9df7c475-7305-404c-a439-a5f17507b6e1",
        "executionInfo": {
          "status": "ok",
          "timestamp": 1525919664765,
          "user_tz": -480,
          "elapsed": 752,
          "user": {
            "displayName": "梁泊傑",
            "photoUrl": "https://lh3.googleusercontent.com/a/default-user=s128",
            "userId": "102265875149672539628"
          }
        }
      },
      "cell_type": "code",
      "source": [
        "X = PolynomialFeatures(interaction_only=True).fit_transform(X).astype(int)\n",
        "X"
      ],
      "execution_count": 22,
      "outputs": [
        {
          "output_type": "execute_result",
          "data": {
            "text/plain": [
              "array([[1, 0, 0, 0],\n",
              "       [1, 0, 1, 0],\n",
              "       [1, 1, 0, 0],\n",
              "       [1, 1, 1, 1]])"
            ]
          },
          "metadata": {
            "tags": []
          },
          "execution_count": 22
        }
      ]
    },
    {
      "metadata": {
        "id": "YuI9WsPs5l4o",
        "colab_type": "code",
        "colab": {
          "autoexec": {
            "startup": false,
            "wait_interval": 0
          },
          "base_uri": "https://localhost:8080/",
          "height": 34
        },
        "outputId": "2cefa389-31b7-4726-fdc9-4dd06ba91e41",
        "executionInfo": {
          "status": "ok",
          "timestamp": 1525919692188,
          "user_tz": -480,
          "elapsed": 1038,
          "user": {
            "displayName": "梁泊傑",
            "photoUrl": "https://lh3.googleusercontent.com/a/default-user=s128",
            "userId": "102265875149672539628"
          }
        }
      },
      "cell_type": "code",
      "source": [
        "clf = Perceptron(fit_intercept=False, max_iter=10, tol=None,\n",
        "                shuffle=False).fit(X, y)\n",
        "clf.predict(X)"
      ],
      "execution_count": 25,
      "outputs": [
        {
          "output_type": "execute_result",
          "data": {
            "text/plain": [
              "array([0, 1, 1, 0])"
            ]
          },
          "metadata": {
            "tags": []
          },
          "execution_count": 25
        }
      ]
    },
    {
      "metadata": {
        "id": "ZzvA5Szq5tB0",
        "colab_type": "code",
        "colab": {
          "autoexec": {
            "startup": false,
            "wait_interval": 0
          },
          "base_uri": "https://localhost:8080/",
          "height": 34
        },
        "outputId": "b54e5bfc-eb6b-4fb1-cf5d-8ff5f9b7dc89",
        "executionInfo": {
          "status": "ok",
          "timestamp": 1525919703899,
          "user_tz": -480,
          "elapsed": 1110,
          "user": {
            "displayName": "梁泊傑",
            "photoUrl": "https://lh3.googleusercontent.com/a/default-user=s128",
            "userId": "102265875149672539628"
          }
        }
      },
      "cell_type": "code",
      "source": [
        "clf.score(X, y)"
      ],
      "execution_count": 26,
      "outputs": [
        {
          "output_type": "execute_result",
          "data": {
            "text/plain": [
              "1.0"
            ]
          },
          "metadata": {
            "tags": []
          },
          "execution_count": 26
        }
      ]
    }
  ]
}